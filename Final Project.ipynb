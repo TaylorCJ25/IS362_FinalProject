{
 "cells": [
  {
   "cell_type": "markdown",
   "source": [
    "# IS 362 Final Project\n",
    "## By: Taylor Clark Jones\n",
    "#### For the final project, I will be analyzing US traffic accidents and the correlation of the time of the accident to the severity of injuries. Analyzing this data allows predicting future accidents and caution regarding driving within specific areas.\n",
    "#### Key Questions:\n",
    "#### Are accidents more prone during morning or evening?\n",
    "#### Have accidents increased on decreased over the years?\n",
    "#### Which cities are more prone to accidents?\n",
    "\n",
    "##### To begin we will start with importing pandas and numpy before retrieving the dataset file."
   ],
   "metadata": {
    "collapsed": false,
    "pycharm": {
     "name": "#%% md\n"
    }
   }
  },
  {
   "cell_type": "code",
   "execution_count": 24,
   "outputs": [],
   "source": [
    "import pandas as pd\n",
    "import numpy as np"
   ],
   "metadata": {
    "collapsed": false,
    "pycharm": {
     "name": "#%%\n"
    }
   }
  },
  {
   "cell_type": "code",
   "execution_count": 25,
   "outputs": [],
   "source": [
    "df = pd.read_csv(r'C:\\Users\\HP\\\\OneDrive\\Desktop\\US_Accidents_Dec21_updated.csv')"
   ],
   "metadata": {
    "collapsed": false,
    "pycharm": {
     "name": "#%%\n"
    }
   }
  },
  {
   "cell_type": "code",
   "execution_count": 26,
   "outputs": [
    {
     "data": {
      "text/plain": "    ID  Severity           Start_Time             End_Time  Start_Lat  \\\n0  A-1         3  2016-02-08 00:37:08  2016-02-08 06:37:08  40.108910   \n1  A-2         2  2016-02-08 05:56:20  2016-02-08 11:56:20  39.865420   \n2  A-3         2  2016-02-08 06:15:39  2016-02-08 12:15:39  39.102660   \n3  A-4         2  2016-02-08 06:51:45  2016-02-08 12:51:45  41.062130   \n4  A-5         3  2016-02-08 07:53:43  2016-02-08 13:53:43  39.172393   \n\n   Start_Lng    End_Lat    End_Lng  Distance(mi)  \\\n0 -83.092860  40.112060 -83.031870         3.230   \n1 -84.062800  39.865010 -84.048730         0.747   \n2 -84.524680  39.102090 -84.523960         0.055   \n3 -81.537840  41.062170 -81.535470         0.123   \n4 -84.492792  39.170476 -84.501798         0.500   \n\n                                         Description  ...  Roundabout Station  \\\n0  Between Sawmill Rd/Exit 20 and OH-315/Olentang...  ...       False   False   \n1                 At OH-4/OH-235/Exit 41 - Accident.  ...       False   False   \n2                   At I-71/US-50/Exit 1 - Accident.  ...       False   False   \n3                    At Dart Ave/Exit 21 - Accident.  ...       False   False   \n4                 At Mitchell Ave/Exit 6 - Accident.  ...       False   False   \n\n    Stop Traffic_Calming Traffic_Signal Turning_Loop Sunrise_Sunset  \\\n0  False           False          False        False          Night   \n1  False           False          False        False          Night   \n2  False           False          False        False          Night   \n3  False           False          False        False          Night   \n4  False           False          False        False            Day   \n\n  Civil_Twilight Nautical_Twilight Astronomical_Twilight  \n0          Night             Night                 Night  \n1          Night             Night                 Night  \n2          Night             Night                   Day  \n3          Night               Day                   Day  \n4            Day               Day                   Day  \n\n[5 rows x 47 columns]",
      "text/html": "<div>\n<style scoped>\n    .dataframe tbody tr th:only-of-type {\n        vertical-align: middle;\n    }\n\n    .dataframe tbody tr th {\n        vertical-align: top;\n    }\n\n    .dataframe thead th {\n        text-align: right;\n    }\n</style>\n<table border=\"1\" class=\"dataframe\">\n  <thead>\n    <tr style=\"text-align: right;\">\n      <th></th>\n      <th>ID</th>\n      <th>Severity</th>\n      <th>Start_Time</th>\n      <th>End_Time</th>\n      <th>Start_Lat</th>\n      <th>Start_Lng</th>\n      <th>End_Lat</th>\n      <th>End_Lng</th>\n      <th>Distance(mi)</th>\n      <th>Description</th>\n      <th>...</th>\n      <th>Roundabout</th>\n      <th>Station</th>\n      <th>Stop</th>\n      <th>Traffic_Calming</th>\n      <th>Traffic_Signal</th>\n      <th>Turning_Loop</th>\n      <th>Sunrise_Sunset</th>\n      <th>Civil_Twilight</th>\n      <th>Nautical_Twilight</th>\n      <th>Astronomical_Twilight</th>\n    </tr>\n  </thead>\n  <tbody>\n    <tr>\n      <th>0</th>\n      <td>A-1</td>\n      <td>3</td>\n      <td>2016-02-08 00:37:08</td>\n      <td>2016-02-08 06:37:08</td>\n      <td>40.108910</td>\n      <td>-83.092860</td>\n      <td>40.112060</td>\n      <td>-83.031870</td>\n      <td>3.230</td>\n      <td>Between Sawmill Rd/Exit 20 and OH-315/Olentang...</td>\n      <td>...</td>\n      <td>False</td>\n      <td>False</td>\n      <td>False</td>\n      <td>False</td>\n      <td>False</td>\n      <td>False</td>\n      <td>Night</td>\n      <td>Night</td>\n      <td>Night</td>\n      <td>Night</td>\n    </tr>\n    <tr>\n      <th>1</th>\n      <td>A-2</td>\n      <td>2</td>\n      <td>2016-02-08 05:56:20</td>\n      <td>2016-02-08 11:56:20</td>\n      <td>39.865420</td>\n      <td>-84.062800</td>\n      <td>39.865010</td>\n      <td>-84.048730</td>\n      <td>0.747</td>\n      <td>At OH-4/OH-235/Exit 41 - Accident.</td>\n      <td>...</td>\n      <td>False</td>\n      <td>False</td>\n      <td>False</td>\n      <td>False</td>\n      <td>False</td>\n      <td>False</td>\n      <td>Night</td>\n      <td>Night</td>\n      <td>Night</td>\n      <td>Night</td>\n    </tr>\n    <tr>\n      <th>2</th>\n      <td>A-3</td>\n      <td>2</td>\n      <td>2016-02-08 06:15:39</td>\n      <td>2016-02-08 12:15:39</td>\n      <td>39.102660</td>\n      <td>-84.524680</td>\n      <td>39.102090</td>\n      <td>-84.523960</td>\n      <td>0.055</td>\n      <td>At I-71/US-50/Exit 1 - Accident.</td>\n      <td>...</td>\n      <td>False</td>\n      <td>False</td>\n      <td>False</td>\n      <td>False</td>\n      <td>False</td>\n      <td>False</td>\n      <td>Night</td>\n      <td>Night</td>\n      <td>Night</td>\n      <td>Day</td>\n    </tr>\n    <tr>\n      <th>3</th>\n      <td>A-4</td>\n      <td>2</td>\n      <td>2016-02-08 06:51:45</td>\n      <td>2016-02-08 12:51:45</td>\n      <td>41.062130</td>\n      <td>-81.537840</td>\n      <td>41.062170</td>\n      <td>-81.535470</td>\n      <td>0.123</td>\n      <td>At Dart Ave/Exit 21 - Accident.</td>\n      <td>...</td>\n      <td>False</td>\n      <td>False</td>\n      <td>False</td>\n      <td>False</td>\n      <td>False</td>\n      <td>False</td>\n      <td>Night</td>\n      <td>Night</td>\n      <td>Day</td>\n      <td>Day</td>\n    </tr>\n    <tr>\n      <th>4</th>\n      <td>A-5</td>\n      <td>3</td>\n      <td>2016-02-08 07:53:43</td>\n      <td>2016-02-08 13:53:43</td>\n      <td>39.172393</td>\n      <td>-84.492792</td>\n      <td>39.170476</td>\n      <td>-84.501798</td>\n      <td>0.500</td>\n      <td>At Mitchell Ave/Exit 6 - Accident.</td>\n      <td>...</td>\n      <td>False</td>\n      <td>False</td>\n      <td>False</td>\n      <td>False</td>\n      <td>False</td>\n      <td>False</td>\n      <td>Day</td>\n      <td>Day</td>\n      <td>Day</td>\n      <td>Day</td>\n    </tr>\n  </tbody>\n</table>\n<p>5 rows × 47 columns</p>\n</div>"
     },
     "execution_count": 26,
     "metadata": {},
     "output_type": "execute_result"
    }
   ],
   "source": [
    "#let's view the first five rows of the dataset to determine how much cleaning will be required.\n",
    "df.head()"
   ],
   "metadata": {
    "collapsed": false,
    "pycharm": {
     "name": "#%%\n"
    }
   }
  },
  {
   "cell_type": "code",
   "execution_count": 27,
   "outputs": [
    {
     "data": {
      "text/plain": "(2845342, 47)"
     },
     "execution_count": 27,
     "metadata": {},
     "output_type": "execute_result"
    }
   ],
   "source": [
    "# Find shape of File\n",
    "df.shape"
   ],
   "metadata": {
    "collapsed": false,
    "pycharm": {
     "name": "#%%\n"
    }
   }
  },
  {
   "cell_type": "code",
   "execution_count": 28,
   "outputs": [
    {
     "data": {
      "text/plain": "Index(['ID', 'Severity', 'Start_Time', 'End_Time', 'Start_Lat', 'Start_Lng',\n       'End_Lat', 'End_Lng', 'Distance(mi)', 'Description', 'Number', 'Street',\n       'Side', 'City', 'County', 'State', 'Zipcode', 'Country', 'Timezone',\n       'Airport_Code', 'Weather_Timestamp', 'Temperature(F)', 'Wind_Chill(F)',\n       'Humidity(%)', 'Pressure(in)', 'Visibility(mi)', 'Wind_Direction',\n       'Wind_Speed(mph)', 'Precipitation(in)', 'Weather_Condition', 'Amenity',\n       'Bump', 'Crossing', 'Give_Way', 'Junction', 'No_Exit', 'Railway',\n       'Roundabout', 'Station', 'Stop', 'Traffic_Calming', 'Traffic_Signal',\n       'Turning_Loop', 'Sunrise_Sunset', 'Civil_Twilight', 'Nautical_Twilight',\n       'Astronomical_Twilight'],\n      dtype='object')"
     },
     "execution_count": 28,
     "metadata": {},
     "output_type": "execute_result"
    }
   ],
   "source": [
    "# View the column names\n",
    "df.columns"
   ],
   "metadata": {
    "collapsed": false,
    "pycharm": {
     "name": "#%%\n"
    }
   }
  },
  {
   "cell_type": "markdown",
   "source": [
    "##### Let's Begin cleaning the data."
   ],
   "metadata": {
    "collapsed": false,
    "pycharm": {
     "name": "#%% md\n"
    }
   }
  },
  {
   "cell_type": "code",
   "execution_count": 29,
   "outputs": [],
   "source": [
    "# The following imports will allow math functions and data visualizations to be possible as we continue forward witht his project.\n",
    "import math\n",
    "import seaborn as sns\n",
    "import matplotlib.pyplot as plt\n",
    "%matplotlib inline\n",
    "import os"
   ],
   "metadata": {
    "collapsed": false,
    "pycharm": {
     "name": "#%%\n"
    }
   }
  },
  {
   "cell_type": "code",
   "execution_count": 30,
   "outputs": [
    {
     "data": {
      "text/plain": "           Severity     Start_Lat     Start_Lng       End_Lat       End_Lng  \\\ncount  2.845342e+06  2.845342e+06  2.845342e+06  2.845342e+06  2.845342e+06   \nmean   2.137572e+00  3.624520e+01 -9.711463e+01  3.624532e+01 -9.711439e+01   \nstd    4.787216e-01  5.363797e+00  1.831782e+01  5.363873e+00  1.831763e+01   \nmin    1.000000e+00  2.456603e+01 -1.245481e+02  2.456601e+01 -1.245457e+02   \n25%    2.000000e+00  3.344517e+01 -1.180331e+02  3.344628e+01 -1.180333e+02   \n50%    2.000000e+00  3.609861e+01 -9.241808e+01  3.609799e+01 -9.241772e+01   \n75%    2.000000e+00  4.016024e+01 -8.037243e+01  4.016105e+01 -8.037338e+01   \nmax    4.000000e+00  4.900058e+01 -6.711317e+01  4.907500e+01 -6.710924e+01   \n\n       Distance(mi)        Number  Temperature(F)  Wind_Chill(F)  \\\ncount  2.845342e+06  1.101431e+06    2.776068e+06   2.375699e+06   \nmean   7.026779e-01  8.089408e+03    6.179356e+01   5.965823e+01   \nstd    1.560361e+00  1.836009e+04    1.862263e+01   2.116097e+01   \nmin    0.000000e+00  0.000000e+00   -8.900000e+01  -8.900000e+01   \n25%    5.200000e-02  1.270000e+03    5.000000e+01   4.600000e+01   \n50%    2.440000e-01  4.007000e+03    6.400000e+01   6.300000e+01   \n75%    7.640000e-01  9.567000e+03    7.600000e+01   7.600000e+01   \nmax    1.551860e+02  9.999997e+06    1.960000e+02   1.960000e+02   \n\n        Humidity(%)  Pressure(in)  Visibility(mi)  Wind_Speed(mph)  \\\ncount  2.772250e+06  2.786142e+06    2.774796e+06     2.687398e+06   \nmean   6.436545e+01  2.947234e+01    9.099391e+00     7.395044e+00   \nstd    2.287457e+01  1.045286e+00    2.717546e+00     5.527454e+00   \nmin    1.000000e+00  0.000000e+00    0.000000e+00     0.000000e+00   \n25%    4.800000e+01  2.931000e+01    1.000000e+01     3.500000e+00   \n50%    6.700000e+01  2.982000e+01    1.000000e+01     7.000000e+00   \n75%    8.300000e+01  3.001000e+01    1.000000e+01     1.000000e+01   \nmax    1.000000e+02  5.890000e+01    1.400000e+02     1.087000e+03   \n\n       Precipitation(in)  \ncount       2.295884e+06  \nmean        7.016940e-03  \nstd         9.348831e-02  \nmin         0.000000e+00  \n25%         0.000000e+00  \n50%         0.000000e+00  \n75%         0.000000e+00  \nmax         2.400000e+01  ",
      "text/html": "<div>\n<style scoped>\n    .dataframe tbody tr th:only-of-type {\n        vertical-align: middle;\n    }\n\n    .dataframe tbody tr th {\n        vertical-align: top;\n    }\n\n    .dataframe thead th {\n        text-align: right;\n    }\n</style>\n<table border=\"1\" class=\"dataframe\">\n  <thead>\n    <tr style=\"text-align: right;\">\n      <th></th>\n      <th>Severity</th>\n      <th>Start_Lat</th>\n      <th>Start_Lng</th>\n      <th>End_Lat</th>\n      <th>End_Lng</th>\n      <th>Distance(mi)</th>\n      <th>Number</th>\n      <th>Temperature(F)</th>\n      <th>Wind_Chill(F)</th>\n      <th>Humidity(%)</th>\n      <th>Pressure(in)</th>\n      <th>Visibility(mi)</th>\n      <th>Wind_Speed(mph)</th>\n      <th>Precipitation(in)</th>\n    </tr>\n  </thead>\n  <tbody>\n    <tr>\n      <th>count</th>\n      <td>2.845342e+06</td>\n      <td>2.845342e+06</td>\n      <td>2.845342e+06</td>\n      <td>2.845342e+06</td>\n      <td>2.845342e+06</td>\n      <td>2.845342e+06</td>\n      <td>1.101431e+06</td>\n      <td>2.776068e+06</td>\n      <td>2.375699e+06</td>\n      <td>2.772250e+06</td>\n      <td>2.786142e+06</td>\n      <td>2.774796e+06</td>\n      <td>2.687398e+06</td>\n      <td>2.295884e+06</td>\n    </tr>\n    <tr>\n      <th>mean</th>\n      <td>2.137572e+00</td>\n      <td>3.624520e+01</td>\n      <td>-9.711463e+01</td>\n      <td>3.624532e+01</td>\n      <td>-9.711439e+01</td>\n      <td>7.026779e-01</td>\n      <td>8.089408e+03</td>\n      <td>6.179356e+01</td>\n      <td>5.965823e+01</td>\n      <td>6.436545e+01</td>\n      <td>2.947234e+01</td>\n      <td>9.099391e+00</td>\n      <td>7.395044e+00</td>\n      <td>7.016940e-03</td>\n    </tr>\n    <tr>\n      <th>std</th>\n      <td>4.787216e-01</td>\n      <td>5.363797e+00</td>\n      <td>1.831782e+01</td>\n      <td>5.363873e+00</td>\n      <td>1.831763e+01</td>\n      <td>1.560361e+00</td>\n      <td>1.836009e+04</td>\n      <td>1.862263e+01</td>\n      <td>2.116097e+01</td>\n      <td>2.287457e+01</td>\n      <td>1.045286e+00</td>\n      <td>2.717546e+00</td>\n      <td>5.527454e+00</td>\n      <td>9.348831e-02</td>\n    </tr>\n    <tr>\n      <th>min</th>\n      <td>1.000000e+00</td>\n      <td>2.456603e+01</td>\n      <td>-1.245481e+02</td>\n      <td>2.456601e+01</td>\n      <td>-1.245457e+02</td>\n      <td>0.000000e+00</td>\n      <td>0.000000e+00</td>\n      <td>-8.900000e+01</td>\n      <td>-8.900000e+01</td>\n      <td>1.000000e+00</td>\n      <td>0.000000e+00</td>\n      <td>0.000000e+00</td>\n      <td>0.000000e+00</td>\n      <td>0.000000e+00</td>\n    </tr>\n    <tr>\n      <th>25%</th>\n      <td>2.000000e+00</td>\n      <td>3.344517e+01</td>\n      <td>-1.180331e+02</td>\n      <td>3.344628e+01</td>\n      <td>-1.180333e+02</td>\n      <td>5.200000e-02</td>\n      <td>1.270000e+03</td>\n      <td>5.000000e+01</td>\n      <td>4.600000e+01</td>\n      <td>4.800000e+01</td>\n      <td>2.931000e+01</td>\n      <td>1.000000e+01</td>\n      <td>3.500000e+00</td>\n      <td>0.000000e+00</td>\n    </tr>\n    <tr>\n      <th>50%</th>\n      <td>2.000000e+00</td>\n      <td>3.609861e+01</td>\n      <td>-9.241808e+01</td>\n      <td>3.609799e+01</td>\n      <td>-9.241772e+01</td>\n      <td>2.440000e-01</td>\n      <td>4.007000e+03</td>\n      <td>6.400000e+01</td>\n      <td>6.300000e+01</td>\n      <td>6.700000e+01</td>\n      <td>2.982000e+01</td>\n      <td>1.000000e+01</td>\n      <td>7.000000e+00</td>\n      <td>0.000000e+00</td>\n    </tr>\n    <tr>\n      <th>75%</th>\n      <td>2.000000e+00</td>\n      <td>4.016024e+01</td>\n      <td>-8.037243e+01</td>\n      <td>4.016105e+01</td>\n      <td>-8.037338e+01</td>\n      <td>7.640000e-01</td>\n      <td>9.567000e+03</td>\n      <td>7.600000e+01</td>\n      <td>7.600000e+01</td>\n      <td>8.300000e+01</td>\n      <td>3.001000e+01</td>\n      <td>1.000000e+01</td>\n      <td>1.000000e+01</td>\n      <td>0.000000e+00</td>\n    </tr>\n    <tr>\n      <th>max</th>\n      <td>4.000000e+00</td>\n      <td>4.900058e+01</td>\n      <td>-6.711317e+01</td>\n      <td>4.907500e+01</td>\n      <td>-6.710924e+01</td>\n      <td>1.551860e+02</td>\n      <td>9.999997e+06</td>\n      <td>1.960000e+02</td>\n      <td>1.960000e+02</td>\n      <td>1.000000e+02</td>\n      <td>5.890000e+01</td>\n      <td>1.400000e+02</td>\n      <td>1.087000e+03</td>\n      <td>2.400000e+01</td>\n    </tr>\n  </tbody>\n</table>\n</div>"
     },
     "execution_count": 30,
     "metadata": {},
     "output_type": "execute_result"
    }
   ],
   "source": [
    "df.describe()\n",
    "#statistics for columns with nu eric values"
   ],
   "metadata": {
    "collapsed": false,
    "pycharm": {
     "name": "#%%\n"
    }
   }
  },
  {
   "cell_type": "code",
   "execution_count": 31,
   "outputs": [
    {
     "data": {
      "text/plain": "                       missing_count\nStreet                             2\nCity                             137\nZipcode                         1319\nCivil_Twilight                  2867\nSunrise_Sunset                  2867\nAstronomical_Twilight           2867\nNautical_Twilight               2867\nTimezone                        3659\nAirport_Code                    9549\nWeather_Timestamp              50736\nPressure(in)                   59200\nTemperature(F)                 69274\nVisibility(mi)                 70546\nWeather_Condition              70636\nHumidity(%)                    73092\nWind_Direction                 73775\nWind_Speed(mph)               157944\nWind_Chill(F)                 469643\nPrecipitation(in)             549458\nNumber                       1743911",
      "text/html": "<div>\n<style scoped>\n    .dataframe tbody tr th:only-of-type {\n        vertical-align: middle;\n    }\n\n    .dataframe tbody tr th {\n        vertical-align: top;\n    }\n\n    .dataframe thead th {\n        text-align: right;\n    }\n</style>\n<table border=\"1\" class=\"dataframe\">\n  <thead>\n    <tr style=\"text-align: right;\">\n      <th></th>\n      <th>missing_count</th>\n    </tr>\n  </thead>\n  <tbody>\n    <tr>\n      <th>Street</th>\n      <td>2</td>\n    </tr>\n    <tr>\n      <th>City</th>\n      <td>137</td>\n    </tr>\n    <tr>\n      <th>Zipcode</th>\n      <td>1319</td>\n    </tr>\n    <tr>\n      <th>Civil_Twilight</th>\n      <td>2867</td>\n    </tr>\n    <tr>\n      <th>Sunrise_Sunset</th>\n      <td>2867</td>\n    </tr>\n    <tr>\n      <th>Astronomical_Twilight</th>\n      <td>2867</td>\n    </tr>\n    <tr>\n      <th>Nautical_Twilight</th>\n      <td>2867</td>\n    </tr>\n    <tr>\n      <th>Timezone</th>\n      <td>3659</td>\n    </tr>\n    <tr>\n      <th>Airport_Code</th>\n      <td>9549</td>\n    </tr>\n    <tr>\n      <th>Weather_Timestamp</th>\n      <td>50736</td>\n    </tr>\n    <tr>\n      <th>Pressure(in)</th>\n      <td>59200</td>\n    </tr>\n    <tr>\n      <th>Temperature(F)</th>\n      <td>69274</td>\n    </tr>\n    <tr>\n      <th>Visibility(mi)</th>\n      <td>70546</td>\n    </tr>\n    <tr>\n      <th>Weather_Condition</th>\n      <td>70636</td>\n    </tr>\n    <tr>\n      <th>Humidity(%)</th>\n      <td>73092</td>\n    </tr>\n    <tr>\n      <th>Wind_Direction</th>\n      <td>73775</td>\n    </tr>\n    <tr>\n      <th>Wind_Speed(mph)</th>\n      <td>157944</td>\n    </tr>\n    <tr>\n      <th>Wind_Chill(F)</th>\n      <td>469643</td>\n    </tr>\n    <tr>\n      <th>Precipitation(in)</th>\n      <td>549458</td>\n    </tr>\n    <tr>\n      <th>Number</th>\n      <td>1743911</td>\n    </tr>\n  </tbody>\n</table>\n</div>"
     },
     "execution_count": 31,
     "metadata": {},
     "output_type": "execute_result"
    }
   ],
   "source": [
    "# See which columns have missing values\n",
    "missing_data = df.isna().sum(axis=0).sort_values(ascending=True)\n",
    "missing_data = missing_data.to_frame()\n",
    "missing_data.columns = ['missing_count']\n",
    "missing_data = missing_data.loc[missing_data['missing_count']>0]\n",
    "\n",
    "missing_data\n"
   ],
   "metadata": {
    "collapsed": false,
    "pycharm": {
     "name": "#%%\n"
    }
   }
  },
  {
   "cell_type": "code",
   "execution_count": 32,
   "outputs": [
    {
     "data": {
      "text/plain": "11682"
     },
     "execution_count": 32,
     "metadata": {},
     "output_type": "execute_result"
    }
   ],
   "source": [
    "cities = df['City'].unique()\n",
    "len(cities)"
   ],
   "metadata": {
    "collapsed": false,
    "pycharm": {
     "name": "#%%\n"
    }
   }
  },
  {
   "cell_type": "code",
   "execution_count": 33,
   "outputs": [],
   "source": [
    "accidents_by_cities = df['City'].value_counts()"
   ],
   "metadata": {
    "collapsed": false,
    "pycharm": {
     "name": "#%%\n"
    }
   }
  },
  {
   "cell_type": "markdown",
   "source": [
    "#### Which Cities are most accident-prone?"
   ],
   "metadata": {
    "collapsed": false,
    "pycharm": {
     "name": "#%% md\n"
    }
   }
  },
  {
   "cell_type": "code",
   "execution_count": 34,
   "outputs": [
    {
     "data": {
      "text/plain": "Miami          106966\nLos Angeles     68956\nOrlando         54691\nDallas          41979\nHouston         39448\nCharlotte       33152\nSacramento      32559\nSan Diego       26627\nRaleigh         22840\nMinneapolis     22768\nName: City, dtype: int64"
     },
     "execution_count": 34,
     "metadata": {},
     "output_type": "execute_result"
    }
   ],
   "source": [
    "accidents_by_cities[:10]\n",
    "# Shows top 10 cities of driving accidents"
   ],
   "metadata": {
    "collapsed": false,
    "pycharm": {
     "name": "#%%\n"
    }
   }
  },
  {
   "cell_type": "code",
   "execution_count": 35,
   "outputs": [
    {
     "data": {
      "text/plain": "<Figure size 576x360 with 1 Axes>",
      "image/png": "[encoded data removed]"
     },
     "metadata": {
      "needs_background": "light"
     },
     "output_type": "display_data"
    }
   ],
   "source": [
    "# use the matplotlib import\n",
    "fig, ax = plt.subplots(figsize=(8,5))\n",
    "accidents_by_cities[:10].plot(kind='bar')\n",
    "ax.set(title = 'Top 10 cities By Number of Accidents',\n",
    "       xlabel = 'Cities',\n",
    "       ylabel = 'Accidents Count')\n",
    "plt.show()"
   ],
   "metadata": {
    "collapsed": false,
    "pycharm": {
     "name": "#%%\n"
    }
   }
  },
  {
   "cell_type": "markdown",
   "source": [
    "#### Are accidents more probable during AM or PM?"
   ],
   "metadata": {
    "collapsed": false,
    "pycharm": {
     "name": "#%% md\n"
    }
   }
  },
  {
   "cell_type": "markdown",
   "source": [],
   "metadata": {
    "collapsed": false,
    "pycharm": {
     "name": "#%% md\n"
    }
   }
  },
  {
   "cell_type": "code",
   "execution_count": 36,
   "outputs": [],
   "source": [
    "df.Start_Time = pd.to_datetime(df.Start_Time)"
   ],
   "metadata": {
    "collapsed": false,
    "pycharm": {
     "name": "#%%\n"
    }
   }
  },
  {
   "cell_type": "code",
   "execution_count": 37,
   "outputs": [],
   "source": [
    "hour = pd.DataFrame(df.Start_Time.dt.hour.value_counts()).reset_index().rename(columns={\"index\":\"Hour\",\"Start_Time\":\"Accident_Cases\"})"
   ],
   "metadata": {
    "collapsed": false,
    "pycharm": {
     "name": "#%%\n"
    }
   }
  },
  {
   "cell_type": "code",
   "execution_count": 38,
   "outputs": [
    {
     "data": {
      "text/plain": "<Figure size 576x360 with 1 Axes>",
      "image/png": "[encoded data removed]"
     },
     "metadata": {
      "needs_background": "light"
     },
     "output_type": "display_data"
    }
   ],
   "source": [
    "fig, ax = plt.subplots(figsize=(8,5))\n",
    "sns.histplot(df['Start_Time'].dt.hour, bins = 24)\n",
    "\n",
    "plt.xlabel(\"Start Time\")\n",
    "plt.ylabel(\"Number of Occurence\")\n",
    "plt.title('Accidents Count By Time of Day')\n",
    "\n",
    "plt.show()"
   ],
   "metadata": {
    "collapsed": false,
    "pycharm": {
     "name": "#%%\n"
    }
   }
  },
  {
   "cell_type": "markdown",
   "source": [
    "###### We can see from the image that most accidents occur between 15-17, which represents 4pm-6pm. This makes evening accidents more probable than morning accidents. We can even look further into this data by checking the percentages for each hour."
   ],
   "metadata": {
    "collapsed": false,
    "pycharm": {
     "name": "#%% md\n"
    }
   }
  },
  {
   "cell_type": "code",
   "execution_count": 39,
   "outputs": [
    {
     "name": "stdout",
     "output_type": "stream",
     "text": [
      "Percentage of accidents occuring at 17 hour is 7.74%\n",
      "Percentage of accidents occuring at 16 hour is 7.68%\n",
      "Percentage of accidents occuring at 15 hour is 7.53%\n",
      "Percentage of accidents occuring at 14 hour is 6.73%\n",
      "Percentage of accidents occuring at 18 hour is 5.94%\n",
      "Percentage of accidents occuring at 13 hour is 5.85%\n",
      "Percentage of accidents occuring at 12 hour is 5.05%\n",
      "Percentage of accidents occuring at 7 hour is 4.75%\n",
      "Percentage of accidents occuring at 8 hour is 4.60%\n",
      "Percentage of accidents occuring at 19 hour is 4.11%\n",
      "Percentage of accidents occuring at 11 hour is 3.98%\n",
      "Percentage of accidents occuring at 6 hour is 3.91%\n",
      "Percentage of accidents occuring at 9 hour is 3.82%\n",
      "Percentage of accidents occuring at 10 hour is 3.65%\n",
      "Percentage of accidents occuring at 20 hour is 3.33%\n",
      "Percentage of accidents occuring at 21 hour is 3.06%\n",
      "Percentage of accidents occuring at 22 hour is 2.85%\n",
      "Percentage of accidents occuring at 5 hour is 2.82%\n",
      "Percentage of accidents occuring at 23 hour is 2.61%\n",
      "Percentage of accidents occuring at 0 hour is 2.42%\n",
      "Percentage of accidents occuring at 1 hour is 2.09%\n",
      "Percentage of accidents occuring at 2 hour is 1.95%\n",
      "Percentage of accidents occuring at 4 hour is 1.82%\n",
      "Percentage of accidents occuring at 3 hour is 1.71%\n"
     ]
    }
   ],
   "source": [
    "for (i,j) in zip(hour.Hour,range(0,24)):\n",
    "  print(\"Percentage of accidents occurring at {} hour is {:.2f}%\".format(i,(hour.Accident_Cases[j]/hour.Accident_Cases.sum())*100))"
   ],
   "metadata": {
    "collapsed": false,
    "pycharm": {
     "name": "#%%\n"
    }
   }
  },
  {
   "cell_type": "markdown",
   "source": [
    "#### The results show that hours 15, 16, and 17 all have the highest percentages of accident rates.\n",
    "#### Next we will look into the increase and/or decrease in accidents over the years."
   ],
   "metadata": {
    "collapsed": false,
    "pycharm": {
     "name": "#%% md\n"
    }
   }
  },
  {
   "cell_type": "code",
   "execution_count": 40,
   "outputs": [],
   "source": [
    "year = pd.DataFrame(df.Start_Time.dt.year.value_counts()).reset_index().rename(columns={\"index\":\"Year\",\"Start_Time\":\"Accident_Cases\"})"
   ],
   "metadata": {
    "collapsed": false,
    "pycharm": {
     "name": "#%%\n"
    }
   }
  },
  {
   "cell_type": "code",
   "execution_count": 41,
   "outputs": [
    {
     "data": {
      "text/plain": "<Figure size 648x288 with 1 Axes>",
      "image/png": "[encoded data removed]"
     },
     "metadata": {
      "needs_background": "light"
     },
     "output_type": "display_data"
    }
   ],
   "source": [
    "from matplotlib import ticker #https://www.geeksforgeeks.org/matplotlib-ticker-funcformatter-class-in-python/\n",
    "#using a line graph as they are better for showing trends and progression over periods of time.\n",
    "plt.figure(figsize=(9,4))\n",
    "plt.title('\\n Accident cases reported yearly in US (2016-2020)\\n', size=20, color='grey')\n",
    "plt.xlabel('\\n Year \\n', fontsize=15, color='grey')\n",
    "plt.ylabel('\\nAccident Cases\\n', fontsize=15, color='grey')\n",
    "plt.xticks(fontsize=13)\n",
    "plt.yticks(fontsize=12)\n",
    "a = sns.lineplot(data = year, marker='o', x='Year', y='Accident_Cases', color = '#734dff', label=\"Yearly Road Accidents\")\n",
    "a.xaxis.set_ticks(year.Year)\n",
    "a.yaxis.set_major_formatter(ticker.EngFormatter())\n",
    "\n",
    "plt.show()"
   ],
   "metadata": {
    "collapsed": false,
    "pycharm": {
     "name": "#%%\n"
    }
   }
  },
  {
   "cell_type": "markdown",
   "source": [
    "#### Same as before we'll translate this into percentages or easier understanding."
   ],
   "metadata": {
    "collapsed": false,
    "pycharm": {
     "name": "#%% md\n"
    }
   }
  },
  {
   "cell_type": "code",
   "execution_count": 42,
   "outputs": [
    {
     "name": "stdout",
     "output_type": "stream",
     "text": [
      "Percentage of accidents occurring in year 2021 is 53.13%\n",
      "Percentage of accidents occurring in year 2020 is 22.00%\n",
      "Percentage of accidents occurring in year 2019 is 9.09%\n",
      "Percentage of accidents occurring in year 2017 is 5.76%\n",
      "Percentage of accidents occurring in year 2018 is 5.73%\n"
     ]
    }
   ],
   "source": [
    "for (i,j) in zip(year.Year,range(0,5)):\n",
    "  print(\"Percentage of accidents occurring in year {} is {:.2f}%\".format(i,(year.Accident_Cases[j]/year.Accident_Cases.sum())*100))"
   ],
   "metadata": {
    "collapsed": false,
    "pycharm": {
     "name": "#%%\n"
    }
   }
  },
  {
   "cell_type": "markdown",
   "source": [
    "#### There has been a significant jump in accidents from 2020 to 2021 of 31.13%. To get a better understanding of the increase we will use the same for-in statement to calculate the average of monthly accidents in each year as well as the average of per day."
   ],
   "metadata": {
    "collapsed": false,
    "pycharm": {
     "name": "#%% md\n"
    }
   }
  },
  {
   "cell_type": "code",
   "execution_count": 43,
   "outputs": [
    {
     "name": "stdout",
     "output_type": "stream",
     "text": [
      "Average no. of accidents occuring per month in year 2021 is 125979.\n",
      "Average no. of accidents occuring per month in year 2020 is 52155.\n",
      "Average no. of accidents occuring per month in year 2019 is 21551.\n",
      "Average no. of accidents occuring per month in year 2017 is 13660.\n",
      "Average no. of accidents occuring per month in year 2018 is 13598.\n"
     ]
    }
   ],
   "source": [
    "for (i,j) in zip(year.Year,range(0,5)):\n",
    "  print(\"Average no. of accidents occurring per month in year {} is {}.\".format(i,round(year.Accident_Cases[j]/12)))"
   ],
   "metadata": {
    "collapsed": false,
    "pycharm": {
     "name": "#%%\n"
    }
   }
  },
  {
   "cell_type": "code",
   "execution_count": 44,
   "outputs": [
    {
     "name": "stdout",
     "output_type": "stream",
     "text": [
      "Average no. of accidents occurring per day in year 2021 is 4142.\n",
      "Average no. of accidents occurring per day in year 2020 is 1715.\n",
      "Average no. of accidents occurring per day in year 2019 is 709.\n",
      "Average no. of accidents occurring per day in year 2017 is 449.\n",
      "Average no. of accidents occurring per day in year 2018 is 447.\n"
     ]
    }
   ],
   "source": [
    "for (i,j) in zip(year.Year,range(0,5)):\n",
    "  print(\"Average no. of accidents occurring per day in year {} is {}.\".format(i,round(year.Accident_Cases[j]/365)))"
   ],
   "metadata": {
    "collapsed": false,
    "pycharm": {
     "name": "#%%\n"
    }
   }
  },
  {
   "cell_type": "markdown",
   "source": [
    "#### Bonus findings\n",
    "#### Personally I am not a fan of driving in wet weather, lets pull the data from the weather column and compare it to accident severity."
   ],
   "metadata": {
    "collapsed": false,
    "pycharm": {
     "name": "#%% md\n"
    }
   }
  },
  {
   "cell_type": "code",
   "execution_count": 45,
   "outputs": [
    {
     "data": {
      "text/plain": "Weather_Condition\nBlowing Dust                142\nBlowing Dust / Windy        148\nBlowing Sand                  1\nBlowing Snow                162\nBlowing Snow / Windy         86\n                           ... \nVolcanic Ash                  4\nWidespread Dust              50\nWidespread Dust / Windy      18\nWintry Mix                 3843\nWintry Mix / Windy           74\nName: ID, Length: 127, dtype: int64"
     },
     "execution_count": 45,
     "metadata": {},
     "output_type": "execute_result"
    }
   ],
   "source": [
    "weather_conditions = df.groupby(['Weather_Condition']).count()['ID']\n",
    "weather_conditions"
   ],
   "metadata": {
    "collapsed": false,
    "pycharm": {
     "name": "#%%\n"
    }
   }
  },
  {
   "cell_type": "code",
   "execution_count": 46,
   "outputs": [
    {
     "data": {
      "text/plain": "Weather_Condition\nFair                         1107194\nMostly Cloudy                 363959\nCloudy                        348767\nPartly Cloudy                 249939\nClear                         173823\n                              ...   \nLow Drifting Snow                  1\nLight Fog                          1\nMist / Windy                       1\nSand / Dust Whirls Nearby          1\nSleet / Windy                      1\nName: ID, Length: 127, dtype: int64"
     },
     "execution_count": 46,
     "metadata": {},
     "output_type": "execute_result"
    }
   ],
   "source": [
    "weather_conditions.sort_values(ascending=False)"
   ],
   "metadata": {
    "collapsed": false,
    "pycharm": {
     "name": "#%%\n"
    }
   }
  },
  {
   "cell_type": "code",
   "execution_count": 47,
   "outputs": [
    {
     "data": {
      "text/plain": "Weather_Condition\nFair                       1107194\nMostly Cloudy               363959\nCloudy                      348767\nPartly Cloudy               249939\nClear                       173823\nLight Rain                  128403\nOvercast                     84882\nScattered Clouds             45132\nLight Snow                   43752\nFog                          41226\nHaze                         36354\nRain                         31044\nFair / Windy                 15195\nHeavy Rain                   11824\nSmoke                         7200\nLight Drizzle                 7041\nThunder in the Vicinity       6944\nCloudy / Windy                6839\nT-Storm                       6546\nMostly Cloudy / Windy         6297\nName: ID, dtype: int64"
     },
     "execution_count": 47,
     "metadata": {},
     "output_type": "execute_result"
    }
   ],
   "source": [
    "weather_conditions.sort_values(ascending=False)[:20] #controlled set"
   ],
   "metadata": {
    "collapsed": false,
    "pycharm": {
     "name": "#%%\n"
    }
   }
  },
  {
   "cell_type": "code",
   "execution_count": 51,
   "outputs": [
    {
     "data": {
      "text/plain": "<Figure size 576x360 with 1 Axes>",
      "image/png": "[encoded data removed]"
     },
     "metadata": {},
     "output_type": "display_data"
    }
   ],
   "source": [
    "fig, ax = plt.subplots(figsize=(8,5))\n",
    "weather_conditions.sort_values(ascending=False)[:20].plot(kind='bar')\n",
    "ax.set(title = 'Weather Conditions at Time of Accident Occurence',\n",
    "       xlabel = 'Weather',\n",
    "       ylabel = 'Accidents Count')\n",
    "plt.show()\n"
   ],
   "metadata": {
    "collapsed": false,
    "pycharm": {
     "name": "#%%\n"
    }
   }
  },
  {
   "cell_type": "markdown",
   "source": [
    "### What the research has told us...\n",
    "#### This single dataset has shown that accidents are more likely to occur between 4pm and 6pm, with a 31.13% increase in overall accidents from 2020 to 2021. Following the pattern of the data, one could assume that once 2022 has ended the yearly accidents will again show in increase from 2021 to 2022.\n",
    "#### The weather for most driving accidents is also 'fair', which can be due to drivers being less likely to drive in wet weather. This can eliminate weather as a factor in accidents.\n",
    "\n",
    "##### Below is a constructed table featuring the columns of data used within my research efforts."
   ],
   "metadata": {
    "collapsed": false,
    "pycharm": {
     "name": "#%% md\n"
    }
   }
  },
  {
   "cell_type": "code",
   "execution_count": 52,
   "outputs": [
    {
     "data": {
      "text/plain": "    ID  Severity          Start_Time             End_Time  Start_Lat  \\\n0  A-1         3 2016-02-08 00:37:08  2016-02-08 06:37:08  40.108910   \n1  A-2         2 2016-02-08 05:56:20  2016-02-08 11:56:20  39.865420   \n2  A-3         2 2016-02-08 06:15:39  2016-02-08 12:15:39  39.102660   \n3  A-4         2 2016-02-08 06:51:45  2016-02-08 12:51:45  41.062130   \n4  A-5         3 2016-02-08 07:53:43  2016-02-08 13:53:43  39.172393   \n\n   Start_Lng    End_Lat    End_Lng  Distance(mi)  \\\n0 -83.092860  40.112060 -83.031870         3.230   \n1 -84.062800  39.865010 -84.048730         0.747   \n2 -84.524680  39.102090 -84.523960         0.055   \n3 -81.537840  41.062170 -81.535470         0.123   \n4 -84.492792  39.170476 -84.501798         0.500   \n\n                                         Description  ...  Roundabout Station  \\\n0  Between Sawmill Rd/Exit 20 and OH-315/Olentang...  ...       False   False   \n1                 At OH-4/OH-235/Exit 41 - Accident.  ...       False   False   \n2                   At I-71/US-50/Exit 1 - Accident.  ...       False   False   \n3                    At Dart Ave/Exit 21 - Accident.  ...       False   False   \n4                 At Mitchell Ave/Exit 6 - Accident.  ...       False   False   \n\n    Stop Traffic_Calming Traffic_Signal Turning_Loop Sunrise_Sunset  \\\n0  False           False          False        False          Night   \n1  False           False          False        False          Night   \n2  False           False          False        False          Night   \n3  False           False          False        False          Night   \n4  False           False          False        False            Day   \n\n  Civil_Twilight Nautical_Twilight Astronomical_Twilight  \n0          Night             Night                 Night  \n1          Night             Night                 Night  \n2          Night             Night                   Day  \n3          Night               Day                   Day  \n4            Day               Day                   Day  \n\n[5 rows x 47 columns]",
      "text/html": "<div>\n<style scoped>\n    .dataframe tbody tr th:only-of-type {\n        vertical-align: middle;\n    }\n\n    .dataframe tbody tr th {\n        vertical-align: top;\n    }\n\n    .dataframe thead th {\n        text-align: right;\n    }\n</style>\n<table border=\"1\" class=\"dataframe\">\n  <thead>\n    <tr style=\"text-align: right;\">\n      <th></th>\n      <th>ID</th>\n      <th>Severity</th>\n      <th>Start_Time</th>\n      <th>End_Time</th>\n      <th>Start_Lat</th>\n      <th>Start_Lng</th>\n      <th>End_Lat</th>\n      <th>End_Lng</th>\n      <th>Distance(mi)</th>\n      <th>Description</th>\n      <th>...</th>\n      <th>Roundabout</th>\n      <th>Station</th>\n      <th>Stop</th>\n      <th>Traffic_Calming</th>\n      <th>Traffic_Signal</th>\n      <th>Turning_Loop</th>\n      <th>Sunrise_Sunset</th>\n      <th>Civil_Twilight</th>\n      <th>Nautical_Twilight</th>\n      <th>Astronomical_Twilight</th>\n    </tr>\n  </thead>\n  <tbody>\n    <tr>\n      <th>0</th>\n      <td>A-1</td>\n      <td>3</td>\n      <td>2016-02-08 00:37:08</td>\n      <td>2016-02-08 06:37:08</td>\n      <td>40.108910</td>\n      <td>-83.092860</td>\n      <td>40.112060</td>\n      <td>-83.031870</td>\n      <td>3.230</td>\n      <td>Between Sawmill Rd/Exit 20 and OH-315/Olentang...</td>\n      <td>...</td>\n      <td>False</td>\n      <td>False</td>\n      <td>False</td>\n      <td>False</td>\n      <td>False</td>\n      <td>False</td>\n      <td>Night</td>\n      <td>Night</td>\n      <td>Night</td>\n      <td>Night</td>\n    </tr>\n    <tr>\n      <th>1</th>\n      <td>A-2</td>\n      <td>2</td>\n      <td>2016-02-08 05:56:20</td>\n      <td>2016-02-08 11:56:20</td>\n      <td>39.865420</td>\n      <td>-84.062800</td>\n      <td>39.865010</td>\n      <td>-84.048730</td>\n      <td>0.747</td>\n      <td>At OH-4/OH-235/Exit 41 - Accident.</td>\n      <td>...</td>\n      <td>False</td>\n      <td>False</td>\n      <td>False</td>\n      <td>False</td>\n      <td>False</td>\n      <td>False</td>\n      <td>Night</td>\n      <td>Night</td>\n      <td>Night</td>\n      <td>Night</td>\n    </tr>\n    <tr>\n      <th>2</th>\n      <td>A-3</td>\n      <td>2</td>\n      <td>2016-02-08 06:15:39</td>\n      <td>2016-02-08 12:15:39</td>\n      <td>39.102660</td>\n      <td>-84.524680</td>\n      <td>39.102090</td>\n      <td>-84.523960</td>\n      <td>0.055</td>\n      <td>At I-71/US-50/Exit 1 - Accident.</td>\n      <td>...</td>\n      <td>False</td>\n      <td>False</td>\n      <td>False</td>\n      <td>False</td>\n      <td>False</td>\n      <td>False</td>\n      <td>Night</td>\n      <td>Night</td>\n      <td>Night</td>\n      <td>Day</td>\n    </tr>\n    <tr>\n      <th>3</th>\n      <td>A-4</td>\n      <td>2</td>\n      <td>2016-02-08 06:51:45</td>\n      <td>2016-02-08 12:51:45</td>\n      <td>41.062130</td>\n      <td>-81.537840</td>\n      <td>41.062170</td>\n      <td>-81.535470</td>\n      <td>0.123</td>\n      <td>At Dart Ave/Exit 21 - Accident.</td>\n      <td>...</td>\n      <td>False</td>\n      <td>False</td>\n      <td>False</td>\n      <td>False</td>\n      <td>False</td>\n      <td>False</td>\n      <td>Night</td>\n      <td>Night</td>\n      <td>Day</td>\n      <td>Day</td>\n    </tr>\n    <tr>\n      <th>4</th>\n      <td>A-5</td>\n      <td>3</td>\n      <td>2016-02-08 07:53:43</td>\n      <td>2016-02-08 13:53:43</td>\n      <td>39.172393</td>\n      <td>-84.492792</td>\n      <td>39.170476</td>\n      <td>-84.501798</td>\n      <td>0.500</td>\n      <td>At Mitchell Ave/Exit 6 - Accident.</td>\n      <td>...</td>\n      <td>False</td>\n      <td>False</td>\n      <td>False</td>\n      <td>False</td>\n      <td>False</td>\n      <td>False</td>\n      <td>Day</td>\n      <td>Day</td>\n      <td>Day</td>\n      <td>Day</td>\n    </tr>\n  </tbody>\n</table>\n<p>5 rows × 47 columns</p>\n</div>"
     },
     "execution_count": 52,
     "metadata": {},
     "output_type": "execute_result"
    }
   ],
   "source": [
    "df.head()"
   ],
   "metadata": {
    "collapsed": false,
    "pycharm": {
     "name": "#%%\n"
    }
   }
  },
  {
   "cell_type": "code",
   "execution_count": 54,
   "outputs": [],
   "source": [
    "df_subset = df[['ID','Start_Time','End_Time', 'Weather_Condition', 'Severity','City' ]]"
   ],
   "metadata": {
    "collapsed": false,
    "pycharm": {
     "name": "#%%\n"
    }
   }
  },
  {
   "cell_type": "code",
   "execution_count": 55,
   "outputs": [
    {
     "data": {
      "text/plain": "    ID          Start_Time             End_Time Weather_Condition  Severity  \\\n0  A-1 2016-02-08 00:37:08  2016-02-08 06:37:08        Light Rain         3   \n1  A-2 2016-02-08 05:56:20  2016-02-08 11:56:20        Light Rain         2   \n2  A-3 2016-02-08 06:15:39  2016-02-08 12:15:39          Overcast         2   \n3  A-4 2016-02-08 06:51:45  2016-02-08 12:51:45          Overcast         2   \n4  A-5 2016-02-08 07:53:43  2016-02-08 13:53:43        Light Rain         3   \n\n         City  \n0      Dublin  \n1      Dayton  \n2  Cincinnati  \n3       Akron  \n4  Cincinnati  ",
      "text/html": "<div>\n<style scoped>\n    .dataframe tbody tr th:only-of-type {\n        vertical-align: middle;\n    }\n\n    .dataframe tbody tr th {\n        vertical-align: top;\n    }\n\n    .dataframe thead th {\n        text-align: right;\n    }\n</style>\n<table border=\"1\" class=\"dataframe\">\n  <thead>\n    <tr style=\"text-align: right;\">\n      <th></th>\n      <th>ID</th>\n      <th>Start_Time</th>\n      <th>End_Time</th>\n      <th>Weather_Condition</th>\n      <th>Severity</th>\n      <th>City</th>\n    </tr>\n  </thead>\n  <tbody>\n    <tr>\n      <th>0</th>\n      <td>A-1</td>\n      <td>2016-02-08 00:37:08</td>\n      <td>2016-02-08 06:37:08</td>\n      <td>Light Rain</td>\n      <td>3</td>\n      <td>Dublin</td>\n    </tr>\n    <tr>\n      <th>1</th>\n      <td>A-2</td>\n      <td>2016-02-08 05:56:20</td>\n      <td>2016-02-08 11:56:20</td>\n      <td>Light Rain</td>\n      <td>2</td>\n      <td>Dayton</td>\n    </tr>\n    <tr>\n      <th>2</th>\n      <td>A-3</td>\n      <td>2016-02-08 06:15:39</td>\n      <td>2016-02-08 12:15:39</td>\n      <td>Overcast</td>\n      <td>2</td>\n      <td>Cincinnati</td>\n    </tr>\n    <tr>\n      <th>3</th>\n      <td>A-4</td>\n      <td>2016-02-08 06:51:45</td>\n      <td>2016-02-08 12:51:45</td>\n      <td>Overcast</td>\n      <td>2</td>\n      <td>Akron</td>\n    </tr>\n    <tr>\n      <th>4</th>\n      <td>A-5</td>\n      <td>2016-02-08 07:53:43</td>\n      <td>2016-02-08 13:53:43</td>\n      <td>Light Rain</td>\n      <td>3</td>\n      <td>Cincinnati</td>\n    </tr>\n  </tbody>\n</table>\n</div>"
     },
     "execution_count": 55,
     "metadata": {},
     "output_type": "execute_result"
    }
   ],
   "source": [
    "df_subset.head()"
   ],
   "metadata": {
    "collapsed": false,
    "pycharm": {
     "name": "#%%\n"
    }
   }
  },
  {
   "cell_type": "code",
   "execution_count": null,
   "outputs": [],
   "source": [],
   "metadata": {
    "collapsed": false,
    "pycharm": {
     "name": "#%%\n"
    }
   }
  }
 ],
 "metadata": {
  "kernelspec": {
   "display_name": "Python 3",
   "language": "python",
   "name": "python3"
  },
  "language_info": {
   "codemirror_mode": {
    "name": "ipython",
    "version": 2
   },
   "file_extension": ".py",
   "mimetype": "text/x-python",
   "name": "python",
   "nbconvert_exporter": "python",
   "pygments_lexer": "ipython2",
   "version": "2.7.6"
  }
 },
 "nbformat": 4,
 "nbformat_minor": 0
}